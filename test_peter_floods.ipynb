{
 "cells": [
  {
   "cell_type": "code",
   "execution_count": 1,
   "metadata": {},
   "outputs": [],
   "source": [
    "import xarray as xr\n",
    "from datetime import datetime\n",
    "import numpy as np\n",
    "from datetime import timedelta\n",
    "from climpy.hazard.condition import MaskArea, ThresholdQuantile, ConnectStructure, AverageArea\n",
    "from climpy.hazard.hazard import PointHazard\n",
    "from climpy.hazard.select import EventSelector, TimeBetweenEvents\n",
    "from climpy.hazard.criterion import ArialCriterion\n",
    "from climpy.hazard.link import ValueOverTimeInterval, ValueAtTimeOffset\n",
    "\n",
    "import matplotlib.pyplot as plt"
   ]
  },
  {
   "cell_type": "code",
   "execution_count": 2,
   "metadata": {},
   "outputs": [],
   "source": [
    "catch_id = 6337060\n",
    "\n",
    "shp_path = f\"/data/compoundx/GRDC_runoff/Xie_bnd/individual_shp/{catch_id}.geojson\"\n",
    "input_dir = '/data/compoundx/causal_flood/grdc/GRDC-Daily.nc'\n",
    "runoff = xr.open_dataset(input_dir)[\"runoff_mean\"].sel(id = catch_id)\n",
    "met_path = f\"/data/compoundx/causal_flood/basins_gridded/observations_meteorological/{catch_id}/\"\n",
    "tavg_data = xr.open_dataset(met_path + \"tavg.nc\")[\"tavg\"]\n",
    "pre_data = xr.open_dataset(met_path + \"pre.nc\")[\"pre\"]"
   ]
  },
  {
   "cell_type": "code",
   "execution_count": 3,
   "metadata": {},
   "outputs": [],
   "source": [
    "quantile = 0.90\n",
    "structure = np.array([1,1,1])\n",
    "\n",
    "flood_conditions = [\n",
    "    ThresholdQuantile('>', quantile),\n",
    "    ConnectStructure(structure)\n",
    "]"
   ]
  },
  {
   "cell_type": "code",
   "execution_count": 4,
   "metadata": {},
   "outputs": [],
   "source": [
    "flood = PointHazard(flood_conditions)\n",
    "flood.apply_conditions(runoff)"
   ]
  },
  {
   "cell_type": "code",
   "execution_count": 5,
   "metadata": {},
   "outputs": [
    {
     "data": {
      "text/plain": [
       "317"
      ]
     },
     "execution_count": 5,
     "metadata": {},
     "output_type": "execute_result"
    }
   ],
   "source": [
    "event_list = flood.all_events()\n",
    "len(event_list)"
   ]
  },
  {
   "cell_type": "code",
   "execution_count": 6,
   "metadata": {},
   "outputs": [
    {
     "data": {
      "text/plain": [
       "265"
      ]
     },
     "execution_count": 6,
     "metadata": {},
     "output_type": "execute_result"
    }
   ],
   "source": [
    "event_selected_list = EventSelector(event_list).filter_by_rule(TimeBetweenEvents( '>', timedelta(days=10)))\n",
    "len(event_selected_list)"
   ]
  },
  {
   "cell_type": "code",
   "execution_count": 7,
   "metadata": {},
   "outputs": [],
   "source": [
    "preprocessing_conditions = ArialCriterion([\n",
    "    MaskArea(shp_path=shp_path),\n",
    "    AverageArea(),\n",
    "])"
   ]
  },
  {
   "cell_type": "code",
   "execution_count": 8,
   "metadata": {},
   "outputs": [],
   "source": [
    "tavg_processed = preprocessing_conditions.apply_conditions(tavg_data)\n",
    "pre_processed = preprocessing_conditions.apply_conditions(pre_data)"
   ]
  },
  {
   "cell_type": "code",
   "execution_count": 13,
   "metadata": {},
   "outputs": [],
   "source": [
    "link = ValueAtTimeOffset(timedelta(days=-6))\n",
    "link.on_events(event_list=event_selected_list)\n",
    "t_avg_7day_before = link.get_values(tavg_processed)"
   ]
  },
  {
   "cell_type": "code",
   "execution_count": 14,
   "metadata": {},
   "outputs": [],
   "source": [
    "link = ValueOverTimeInterval(timedelta(days=-6))\n",
    "link.on_events(event_list=event_selected_list)\n",
    "pre_last_7days = link.get_values(pre_processed)"
   ]
  }
 ],
 "metadata": {
  "kernelspec": {
   "display_name": "CLIMPY311",
   "language": "python",
   "name": "python3"
  },
  "language_info": {
   "codemirror_mode": {
    "name": "ipython",
    "version": 3
   },
   "file_extension": ".py",
   "mimetype": "text/x-python",
   "name": "python",
   "nbconvert_exporter": "python",
   "pygments_lexer": "ipython3",
   "version": "3.11.3"
  },
  "orig_nbformat": 4
 },
 "nbformat": 4,
 "nbformat_minor": 2
}
