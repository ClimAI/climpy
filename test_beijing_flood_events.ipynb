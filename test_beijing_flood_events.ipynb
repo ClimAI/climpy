{
 "cells": [
  {
   "cell_type": "code",
   "execution_count": 1,
   "metadata": {},
   "outputs": [],
   "source": [
    "%reload_ext autoreload\n",
    "%autoreload"
   ]
  },
  {
   "cell_type": "code",
   "execution_count": 2,
   "metadata": {},
   "outputs": [],
   "source": [
    "import xarray as xr\n",
    "from datetime import datetime\n",
    "import numpy as np\n",
    "\n",
    "from climpy.transform.condition import ThresholdQuantile, ConnectStructure\n",
    "from climpy.transform.criterion import ArialCriterion\n",
    "from climpy.transform.hazard import ArealHazard"
   ]
  },
  {
   "cell_type": "code",
   "execution_count": 3,
   "metadata": {},
   "outputs": [],
   "source": [
    "input_dir = '/data/compoundx/E-OBS/dataFor_mhm_EUdrought2022/E-OBS_1920_2022_rawData_0.125/'"
   ]
  },
  {
   "cell_type": "code",
   "execution_count": 4,
   "metadata": {},
   "outputs": [],
   "source": [
    "mhmOutput = xr.open_dataset(input_dir + 'hydro_mhmOutput/mRM_Fluxes_States.nc')[\"Qrouted\"]\n",
    "mhmOutput = mhmOutput.sel(time = slice(datetime(2010, 1,1), datetime(2013, 1,1))) #Select a subset"
   ]
  },
  {
   "cell_type": "code",
   "execution_count": 5,
   "metadata": {},
   "outputs": [
    {
     "data": {
      "text/plain": [
       "array([[[0, 1, 0],\n",
       "        [0, 1, 0],\n",
       "        [0, 1, 0]],\n",
       "\n",
       "       [[0, 1, 0],\n",
       "        [1, 1, 1],\n",
       "        [0, 1, 0]],\n",
       "\n",
       "       [[0, 1, 0],\n",
       "        [0, 1, 0],\n",
       "        [0, 1, 0]]])"
      ]
     },
     "execution_count": 5,
     "metadata": {},
     "output_type": "execute_result"
    }
   ],
   "source": [
    "connect_structure = np.array([[[0,1,0],[0,1,0],[0,1,0]], [[0,1,0],[1,1,1],[0,1,0]], [[0,1,0],[0,1,0],[0,1,0]]])\n",
    "connect_structure"
   ]
  },
  {
   "cell_type": "code",
   "execution_count": 6,
   "metadata": {},
   "outputs": [],
   "source": [
    "quantile = 0.95\n",
    "connect_structure = np.array([[[0,1,0],[0,1,0],[0,1,0]], [[0,1,0],[1,1,1],[0,1,0]], [[0,1,0],[0,1,0],[0,1,0]]])\n",
    "\n",
    "flood_criterion = ArialCriterion([\n",
    "    ThresholdQuantile('>', quantile=quantile),\n",
    "    ConnectStructure(structure=connect_structure)    \n",
    "])"
   ]
  },
  {
   "cell_type": "code",
   "execution_count": 7,
   "metadata": {},
   "outputs": [
    {
     "ename": "AssertionError",
     "evalue": "PointCondition can only have ('time') dimension instead          of ('time', 'lat', 'lon')",
     "output_type": "error",
     "traceback": [
      "\u001b[0;31m---------------------------------------------------------------------------\u001b[0m",
      "\u001b[0;31mAssertionError\u001b[0m                            Traceback (most recent call last)",
      "Cell \u001b[0;32mIn[7], line 2\u001b[0m\n\u001b[1;32m      1\u001b[0m flood \u001b[39m=\u001b[39m ArealHazard(criterion\u001b[39m=\u001b[39mflood_criterion)\n\u001b[0;32m----> 2\u001b[0m flood\u001b[39m.\u001b[39;49mapply_criterion(mhmOutput)\n",
      "File \u001b[0;32m/gpfs0/home/anand/climpy/climpy/transform/hazard.py:59\u001b[0m, in \u001b[0;36mSpatialHazard.apply_criterion\u001b[0;34m(self, x)\u001b[0m\n\u001b[1;32m     57\u001b[0m \u001b[39mself\u001b[39m\u001b[39m.\u001b[39mdata \u001b[39m=\u001b[39m deepcopy(x)\n\u001b[1;32m     58\u001b[0m \u001b[39mfor\u001b[39;00m condition \u001b[39min\u001b[39;00m \u001b[39mself\u001b[39m\u001b[39m.\u001b[39msequence:\n\u001b[0;32m---> 59\u001b[0m     x \u001b[39m=\u001b[39m condition(x)\n\u001b[1;32m     61\u001b[0m \u001b[39mself\u001b[39m\u001b[39m.\u001b[39mlocation \u001b[39m=\u001b[39m x\n\u001b[1;32m     62\u001b[0m \u001b[39mself\u001b[39m\u001b[39m.\u001b[39mn_events \u001b[39m=\u001b[39m np\u001b[39m.\u001b[39munique(x)\u001b[39m.\u001b[39mshape[\u001b[39m0\u001b[39m] \u001b[39m-\u001b[39m \u001b[39m1\u001b[39m\n",
      "File \u001b[0;32m/gpfs0/home/anand/climpy/climpy/transform/condition.py:26\u001b[0m, in \u001b[0;36mPointCondition.__call__\u001b[0;34m(self, data)\u001b[0m\n\u001b[1;32m     25\u001b[0m \u001b[39mdef\u001b[39;00m \u001b[39m__call__\u001b[39m(\u001b[39mself\u001b[39m, data):\n\u001b[0;32m---> 26\u001b[0m     \u001b[39massert\u001b[39;00m (\n\u001b[1;32m     27\u001b[0m         \u001b[39mlen\u001b[39m(data\u001b[39m.\u001b[39mdims) \u001b[39m==\u001b[39m \u001b[39m1\u001b[39m \u001b[39mand\u001b[39;00m data\u001b[39m.\u001b[39mdims[\u001b[39m0\u001b[39m] \u001b[39m==\u001b[39m \u001b[39m\"\u001b[39m\u001b[39mtime\u001b[39m\u001b[39m\"\u001b[39m\n\u001b[1;32m     28\u001b[0m     ), \u001b[39mf\u001b[39m\u001b[39m\"\u001b[39m\u001b[39mPointCondition can only have (\u001b[39m\u001b[39m'\u001b[39m\u001b[39mtime\u001b[39m\u001b[39m'\u001b[39m\u001b[39m) dimension instead  \u001b[39m\u001b[39m\\\u001b[39;00m\n\u001b[1;32m     29\u001b[0m \u001b[39m    of \u001b[39m\u001b[39m{\u001b[39;00mdata\u001b[39m.\u001b[39mdims\u001b[39m}\u001b[39;00m\u001b[39m\"\u001b[39m\n\u001b[1;32m     30\u001b[0m     out \u001b[39m=\u001b[39m apply_point_condition(data, \u001b[39mself\u001b[39m\u001b[39m.\u001b[39mfunc, \u001b[39mself\u001b[39m\u001b[39m.\u001b[39margs)\n\u001b[1;32m     31\u001b[0m     out \u001b[39m=\u001b[39m convert_np_to_xr(out, data)\n",
      "\u001b[0;31mAssertionError\u001b[0m: PointCondition can only have ('time') dimension instead          of ('time', 'lat', 'lon')"
     ]
    }
   ],
   "source": [
    "flood = ArealHazard(criterion=flood_criterion)\n",
    "flood.apply_criterion(mhmOutput)"
   ]
  },
  {
   "cell_type": "code",
   "execution_count": 16,
   "metadata": {},
   "outputs": [
    {
     "data": {
      "text/plain": [
       "5296"
      ]
     },
     "execution_count": 16,
     "metadata": {},
     "output_type": "execute_result"
    }
   ],
   "source": [
    "flood.n_events"
   ]
  },
  {
   "cell_type": "code",
   "execution_count": 17,
   "metadata": {},
   "outputs": [
    {
     "data": {
      "text/plain": [
       "Areal  Event:\n",
       "    * Temporal Extent: 2010-01-01 23:00:00 to 2010-01-04 23:00:00\n",
       "    * Spatial Extent: Diagonally Opposite End Points(lon, lat) ((21.0625, 54.9375) , (21.1875, 54.5625))"
      ]
     },
     "execution_count": 17,
     "metadata": {},
     "output_type": "execute_result"
    }
   ],
   "source": [
    "flood.get_event(10)"
   ]
  }
 ],
 "metadata": {
  "kernelspec": {
   "display_name": "TORCH311",
   "language": "python",
   "name": "python3"
  },
  "language_info": {
   "codemirror_mode": {
    "name": "ipython",
    "version": 3
   },
   "file_extension": ".py",
   "mimetype": "text/x-python",
   "name": "python",
   "nbconvert_exporter": "python",
   "pygments_lexer": "ipython3",
   "version": "3.11.3"
  },
  "orig_nbformat": 4
 },
 "nbformat": 4,
 "nbformat_minor": 2
}
