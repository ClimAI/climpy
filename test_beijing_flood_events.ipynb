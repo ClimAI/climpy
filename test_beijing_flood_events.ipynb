{
 "cells": [
  {
   "cell_type": "code",
   "execution_count": 2,
   "metadata": {},
   "outputs": [],
   "source": [
    "import xarray as xr\n",
    "from datetime import datetime\n",
    "import numpy as np\n",
    "\n",
    "from climpy.hazard.condition import ThresholdQuantile, ConnectStructure\n",
    "from climpy.hazard.criterion import ArialHazardCriterion\n",
    "from climpy.hazard.hazard import ArealHazard"
   ]
  },
  {
   "cell_type": "code",
   "execution_count": 3,
   "metadata": {},
   "outputs": [],
   "source": [
    "input_dir = '/data/compoundx/E-OBS/dataFor_mhm_EUdrought2022/E-OBS_1920_2022_rawData_0.125/'"
   ]
  },
  {
   "cell_type": "code",
   "execution_count": 4,
   "metadata": {},
   "outputs": [],
   "source": [
    "mhmOutput = xr.open_dataset(input_dir + 'hydro_mhmOutput/mRM_Fluxes_States.nc')[\"Qrouted\"]\n",
    "mhmOutput = mhmOutput.sel(time = slice(datetime(2010, 1,1), datetime(2013, 1,1))) #Select a subset"
   ]
  },
  {
   "cell_type": "code",
   "execution_count": 6,
   "metadata": {},
   "outputs": [
    {
     "data": {
      "text/plain": [
       "array([[[0, 1, 0],\n",
       "        [0, 1, 0],\n",
       "        [0, 1, 0]],\n",
       "\n",
       "       [[0, 1, 0],\n",
       "        [1, 1, 1],\n",
       "        [0, 1, 0]],\n",
       "\n",
       "       [[0, 1, 0],\n",
       "        [0, 1, 0],\n",
       "        [0, 1, 0]]])"
      ]
     },
     "execution_count": 6,
     "metadata": {},
     "output_type": "execute_result"
    }
   ],
   "source": [
    "connect_structure = np.array([[[0,1,0],[0,1,0],[0,1,0]], [[0,1,0],[1,1,1],[0,1,0]], [[0,1,0],[0,1,0],[0,1,0]]])\n",
    "connect_structure"
   ]
  },
  {
   "cell_type": "code",
   "execution_count": 8,
   "metadata": {},
   "outputs": [],
   "source": [
    "quantile = 0.95\n",
    "connect_structure = np.array([[[0,1,0],[0,1,0],[0,1,0]], [[0,1,0],[1,1,1],[0,1,0]], [[0,1,0],[0,1,0],[0,1,0]]])\n",
    "\n",
    "flood_criterion = ArialHazardCriterion([\n",
    "    ThresholdQuantile('>', quantile=quantile),\n",
    "    ConnectStructure(structure=connect_structure)    \n",
    "])"
   ]
  },
  {
   "cell_type": "code",
   "execution_count": 9,
   "metadata": {},
   "outputs": [],
   "source": [
    "flood = ArealHazard(criterion=flood_criterion)\n",
    "flood.apply_criterion(mhmOutput)"
   ]
  },
  {
   "cell_type": "code",
   "execution_count": 10,
   "metadata": {},
   "outputs": [
    {
     "data": {
      "text/plain": [
       "5296"
      ]
     },
     "execution_count": 10,
     "metadata": {},
     "output_type": "execute_result"
    }
   ],
   "source": [
    "flood.n_events"
   ]
  },
  {
   "cell_type": "code",
   "execution_count": 11,
   "metadata": {},
   "outputs": [
    {
     "data": {
      "text/plain": [
       "Areal Hazard Event:\n",
       "    * Temporal Extent: 2010-01-01 23:00:00 to 2010-01-04 23:00:00\n",
       "    * Spatial Extent: Diagonally Opposite End Points(lon, lat) ((21.0625, 54.9375) , (21.1875, 54.5625))"
      ]
     },
     "execution_count": 11,
     "metadata": {},
     "output_type": "execute_result"
    }
   ],
   "source": [
    "flood.get_event(10)"
   ]
  },
  {
   "cell_type": "code",
   "execution_count": null,
   "metadata": {},
   "outputs": [],
   "source": []
  }
 ],
 "metadata": {
  "kernelspec": {
   "display_name": "TORCH311",
   "language": "python",
   "name": "python3"
  },
  "language_info": {
   "codemirror_mode": {
    "name": "ipython",
    "version": 3
   },
   "file_extension": ".py",
   "mimetype": "text/x-python",
   "name": "python",
   "nbconvert_exporter": "python",
   "pygments_lexer": "ipython3",
   "version": "3.11.3"
  },
  "orig_nbformat": 4
 },
 "nbformat": 4,
 "nbformat_minor": 2
}
