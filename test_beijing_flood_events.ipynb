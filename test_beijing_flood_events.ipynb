{
 "cells": [
  {
   "cell_type": "code",
   "execution_count": 2,
   "metadata": {},
   "outputs": [],
   "source": [
    "import xarray as xr\n",
    "from datetime import datetime\n",
    "import numpy as np\n",
    "\n",
    "from climpy.hazard.condition import ThresholdQuantile, ConnectStructure\n",
    "from climpy.hazard.criterion import ArialHazardCriterion\n",
    "from climpy.hazard.event import ArealHazard"
   ]
  },
  {
   "cell_type": "code",
   "execution_count": 3,
   "metadata": {},
   "outputs": [],
   "source": [
    "input_dir = '/data/compoundx/E-OBS/dataFor_mhm_EUdrought2022/E-OBS_1920_2022_rawData_0.125/'"
   ]
  },
  {
   "cell_type": "code",
   "execution_count": 4,
   "metadata": {},
   "outputs": [],
   "source": [
    "mhmOutput = xr.open_dataset(input_dir + 'hydro_mhmOutput/mRM_Fluxes_States.nc')[\"Qrouted\"]\n",
    "mhmOutput = mhmOutput.sel(time = slice(datetime(2010, 1,1), datetime(2013, 1,1))) #Select a subset"
   ]
  },
  {
   "cell_type": "code",
   "execution_count": 5,
   "metadata": {},
   "outputs": [],
   "source": [
    "quantile = 0.95\n",
    "connect_structure = np.array([[[0,1,0],[0,1,0],[0,1,0]], [[0,1,0],[1,1,1],[0,1,0]], [[0,1,0],[0,1,0],[0,1,0]]])\n",
    "\n",
    "flood_criterion = ArialHazardCriterion([\n",
    "    ThresholdQuantile('>', q=quantile),\n",
    "    ConnectStructure(structure=connect_structure)    \n",
    "])"
   ]
  },
  {
   "cell_type": "code",
   "execution_count": 7,
   "metadata": {},
   "outputs": [
    {
     "name": "stdout",
     "output_type": "stream",
     "text": [
      "()\n",
      "<xarray.DataArray 'Qrouted' (time: 1096, lat: 292, lon: 416)>\n",
      "[133133312 values with dtype=float32]\n",
      "Coordinates:\n",
      "  * lon      (lon) float32 -10.94 -10.81 -10.69 -10.56 ... 40.69 40.81 40.94\n",
      "  * lat      (lat) float32 71.44 71.31 71.19 71.06 ... 35.44 35.31 35.19 35.06\n",
      "  * time     (time) datetime64[ns] 2010-01-01T23:00:00 ... 2012-12-31T23:00:00\n",
      "Attributes:\n",
      "    long_name:  routed streamflow\n",
      "    units:      m3 s-1\n"
     ]
    }
   ],
   "source": [
    "flood = ArealHazard(criterion=flood_criterion)\n",
    "flood.apply_criterion(mhmOutput)"
   ]
  },
  {
   "cell_type": "code",
   "execution_count": 11,
   "metadata": {},
   "outputs": [
    {
     "data": {
      "text/plain": [
       "5296"
      ]
     },
     "execution_count": 11,
     "metadata": {},
     "output_type": "execute_result"
    }
   ],
   "source": [
    "flood.n_events"
   ]
  },
  {
   "cell_type": "code",
   "execution_count": null,
   "metadata": {},
   "outputs": [],
   "source": []
  }
 ],
 "metadata": {
  "kernelspec": {
   "display_name": "TORCH311",
   "language": "python",
   "name": "python3"
  },
  "language_info": {
   "codemirror_mode": {
    "name": "ipython",
    "version": 3
   },
   "file_extension": ".py",
   "mimetype": "text/x-python",
   "name": "python",
   "nbconvert_exporter": "python",
   "pygments_lexer": "ipython3",
   "version": "3.11.3"
  },
  "orig_nbformat": 4
 },
 "nbformat": 4,
 "nbformat_minor": 2
}
