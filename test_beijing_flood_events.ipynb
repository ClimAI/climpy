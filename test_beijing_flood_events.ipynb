{
 "cells": [
  {
   "cell_type": "code",
   "execution_count": 2,
   "metadata": {},
   "outputs": [
    {
     "ename": "ModuleNotFoundError",
     "evalue": "No module named 'climpy.hazard.criteria'",
     "output_type": "error",
     "traceback": [
      "\u001b[0;31m---------------------------------------------------------------------------\u001b[0m",
      "\u001b[0;31mModuleNotFoundError\u001b[0m                       Traceback (most recent call last)",
      "Cell \u001b[0;32mIn[2], line 5\u001b[0m\n\u001b[1;32m      2\u001b[0m \u001b[39mfrom\u001b[39;00m \u001b[39mdatetime\u001b[39;00m \u001b[39mimport\u001b[39;00m datetime\n\u001b[1;32m      3\u001b[0m \u001b[39mimport\u001b[39;00m \u001b[39mnumpy\u001b[39;00m \u001b[39mas\u001b[39;00m \u001b[39mnp\u001b[39;00m\n\u001b[0;32m----> 5\u001b[0m \u001b[39mfrom\u001b[39;00m \u001b[39mclimpy\u001b[39;00m\u001b[39m.\u001b[39;00m\u001b[39mhazard\u001b[39;00m\u001b[39m.\u001b[39;00m\u001b[39mcriteria\u001b[39;00m\u001b[39m.\u001b[39;00m\u001b[39mcondition\u001b[39;00m \u001b[39mimport\u001b[39;00m ThresholdPercentile, ConnectStructure\n\u001b[1;32m      6\u001b[0m \u001b[39mfrom\u001b[39;00m \u001b[39mclimpy\u001b[39;00m\u001b[39m.\u001b[39;00m\u001b[39mhazard\u001b[39;00m\u001b[39m.\u001b[39;00m\u001b[39mcriteria\u001b[39;00m\u001b[39m.\u001b[39;00m\u001b[39mcriterion\u001b[39;00m \u001b[39mimport\u001b[39;00m ArialHazardCriterion\n\u001b[1;32m      7\u001b[0m \u001b[39mfrom\u001b[39;00m \u001b[39mclimpy\u001b[39;00m\u001b[39m.\u001b[39;00m\u001b[39mhazard\u001b[39;00m\u001b[39m.\u001b[39;00m\u001b[39mevents\u001b[39;00m\u001b[39m.\u001b[39;00m\u001b[39mevent\u001b[39;00m \u001b[39mimport\u001b[39;00m ArealHazard\n",
      "\u001b[0;31mModuleNotFoundError\u001b[0m: No module named 'climpy.hazard.criteria'"
     ]
    }
   ],
   "source": [
    "import xarray as xr\n",
    "from datetime import datetime\n",
    "import numpy as np\n",
    "\n",
    "from climpy.hazard.criteria.condition import ThresholdPercentile, ConnectStructure\n",
    "from climpy.hazard.criteria.criterion import ArialHazardCriterion\n",
    "from climpy.hazard.events.event import ArealHazard"
   ]
  },
  {
   "cell_type": "code",
   "execution_count": null,
   "metadata": {},
   "outputs": [],
   "source": [
    "input_dir = '/data/compoundx/E-OBS/dataFor_mhm_EUdrought2022/E-OBS_1920_2022_rawData_0.125/'"
   ]
  },
  {
   "cell_type": "code",
   "execution_count": null,
   "metadata": {},
   "outputs": [
    {
     "ename": "NameError",
     "evalue": "name 'xr' is not defined",
     "output_type": "error",
     "traceback": [
      "\u001b[0;31m---------------------------------------------------------------------------\u001b[0m",
      "\u001b[0;31mNameError\u001b[0m                                 Traceback (most recent call last)",
      "Cell \u001b[0;32mIn[1], line 1\u001b[0m\n\u001b[0;32m----> 1\u001b[0m mhmOutput \u001b[39m=\u001b[39m xr\u001b[39m.\u001b[39mopen_dataset(input_dir \u001b[39m+\u001b[39m \u001b[39m'\u001b[39m\u001b[39mhydro_mhmOutput/mRM_Fluxes_States.nc\u001b[39m\u001b[39m'\u001b[39m)[\u001b[39m\"\u001b[39m\u001b[39mQrouted\u001b[39m\u001b[39m\"\u001b[39m]\n\u001b[1;32m      2\u001b[0m mhmOutput \u001b[39m=\u001b[39m mhmOutput\u001b[39m.\u001b[39msel(time \u001b[39m=\u001b[39m \u001b[39mslice\u001b[39m(datetime(\u001b[39m2010\u001b[39m, \u001b[39m1\u001b[39m,\u001b[39m1\u001b[39m), datetime(\u001b[39m2013\u001b[39m, \u001b[39m1\u001b[39m,\u001b[39m1\u001b[39m))) \u001b[39m#Select a subset\u001b[39;00m\n",
      "\u001b[0;31mNameError\u001b[0m: name 'xr' is not defined"
     ]
    }
   ],
   "source": [
    "mhmOutput = xr.open_dataset(input_dir + 'hydro_mhmOutput/mRM_Fluxes_States.nc')[\"Qrouted\"]\n",
    "mhmOutput = mhmOutput.sel(time = slice(datetime(2010, 1,1), datetime(2013, 1,1))) #Select a subset"
   ]
  },
  {
   "cell_type": "code",
   "execution_count": 5,
   "metadata": {},
   "outputs": [],
   "source": [
    "class FloodHazardCriterion(ArialHazardCriterion):\n",
    "    def __init__(self, peak_threshold = 0.95, connect_structure = np.array([[[0,1,0],[0,1,0],[0,1,0]], [[0,1,0],[1,1,1],[0,1,0]], [[0,1,0],[0,1,0],[0,1,0]]])):\n",
    "        \n",
    "        # Exact overlap in time and Exact + Diagonal overlap in space\n",
    "        \n",
    "        self.cond_1 = ThresholdPercentile('>', peak_threshold)\n",
    "        self.cond_2 = ConnectStructure(connect_structure)\n",
    "        self.sequence = [self.cond_1, self.cond_2]"
   ]
  },
  {
   "cell_type": "code",
   "execution_count": 6,
   "metadata": {},
   "outputs": [],
   "source": [
    "flood_hazard_criterion = FloodHazardCriterion()"
   ]
  },
  {
   "cell_type": "code",
   "execution_count": 7,
   "metadata": {},
   "outputs": [],
   "source": [
    "flood = ArealHazard(criterion=flood_hazard_criterion)\n",
    "flood.apply_criteria(mhmOutput)"
   ]
  },
  {
   "cell_type": "code",
   "execution_count": 9,
   "metadata": {},
   "outputs": [
    {
     "data": {
      "text/plain": [
       "Areal Hazard Event:\n",
       "    * Temporal Extent: 2010-01-01 23:00:00 to 2010-01-02 23:00:00\n",
       "    * Spatial Extent: Diagonally Opposite End Points(lon, lat) ((16.0625, 60.3125) , (17.0625, 60.1875))"
      ]
     },
     "execution_count": 9,
     "metadata": {},
     "output_type": "execute_result"
    }
   ],
   "source": [
    "flood.get_event(3)"
   ]
  },
  {
   "cell_type": "code",
   "execution_count": null,
   "metadata": {},
   "outputs": [],
   "source": []
  }
 ],
 "metadata": {
  "kernelspec": {
   "display_name": "TORCH311",
   "language": "python",
   "name": "python3"
  },
  "language_info": {
   "codemirror_mode": {
    "name": "ipython",
    "version": 3
   },
   "file_extension": ".py",
   "mimetype": "text/x-python",
   "name": "python",
   "nbconvert_exporter": "python",
   "pygments_lexer": "ipython3",
   "version": "3.11.3"
  },
  "orig_nbformat": 4
 },
 "nbformat": 4,
 "nbformat_minor": 2
}
